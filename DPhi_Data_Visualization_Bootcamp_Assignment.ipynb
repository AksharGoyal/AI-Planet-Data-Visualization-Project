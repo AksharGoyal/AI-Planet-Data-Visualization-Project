{
  "cells": [
    {
      "cell_type": "markdown",
      "metadata": {
        "id": "gAcWVKAu7-XY"
      },
      "source": [
        "# DPhi Data Visualization Assignment Details\n",
        "\n",
        "Dear Learner, \n",
        "\n",
        "Congratulations, you have studied Data Visualization all the way through the end of this bootcamp!!! This is the final graded hands-on exercise where you will be accomplishing the below mentioned task."
      ]
    },
    {
      "cell_type": "markdown",
      "metadata": {
        "id": "rwrGCwC28gYK"
      },
      "source": [
        "# Step 1: Select a Tabular Dataset of your choice\n",
        "\n",
        "*   https://www.kdnuggets.com/datasets/index.html\n",
        "*   https://dphi.tech/challenges/#past \n",
        "* https://pub.towardsai.net/best-datasets-for-machine-learning-data-science-computer-vision-nlp-ai-c9541058cf4f  \n",
        "* https://medium.com/analytics-vidhya/top-100-open-source-datasets-for-data-science-cd5a8d67cc3d\n",
        "\n",
        "or you can pick any dataset of your interest on the internet and add reference to it\n"
      ]
    },
    {
      "cell_type": "markdown",
      "metadata": {
        "id": "mQSgxz6r3gBg"
      },
      "source": [
        "# Evaluation Criteria\n",
        "\n",
        "Your submission will be evaluated using the following criteria:\n",
        "\n",
        "* You must ensure that the dataset is tabular.  \n",
        "* You must ask and answer at least 3 questions about the dataset\n",
        "*   Your submission must include at least 3 visualizations (graphs)\n",
        "*   Your submission must include explanations using markdown cells, apart from the code.\n",
        "*   Your work must not be plagiarized i.e. copied for somewhere else."
      ]
    },
    {
      "cell_type": "code",
      "execution_count": 65,
      "metadata": {
        "id": "NJ1Jr5bY9koD"
      },
      "outputs": [],
      "source": [
        "import numpy as np\n",
        "import pandas as pd\n",
        "import matplotlib.pyplot as plt\n",
        "import seaborn as sns"
      ]
    },
    {
      "cell_type": "code",
      "execution_count": 156,
      "metadata": {
        "colab": {
          "base_uri": "https://localhost:8080/",
          "height": 680
        },
        "id": "GK6BBGDrraa2",
        "outputId": "d75619c1-6d47-40cb-9e1e-8df316438ecf"
      },
      "outputs": [
        {
          "name": "stdout",
          "output_type": "stream",
          "text": [
            "(70, 9)\n"
          ]
        },
        {
          "data": {
            "text/html": [
              "\n",
              "  <div id=\"df-47a07eec-7144-4017-a905-db87e98891ab\">\n",
              "    <div class=\"colab-df-container\">\n",
              "      <div>\n",
              "<style scoped>\n",
              "    .dataframe tbody tr th:only-of-type {\n",
              "        vertical-align: middle;\n",
              "    }\n",
              "\n",
              "    .dataframe tbody tr th {\n",
              "        vertical-align: top;\n",
              "    }\n",
              "\n",
              "    .dataframe thead th {\n",
              "        text-align: right;\n",
              "    }\n",
              "</style>\n",
              "<table border=\"1\" class=\"dataframe\">\n",
              "  <thead>\n",
              "    <tr style=\"text-align: right;\">\n",
              "      <th></th>\n",
              "      <th>App Name</th>\n",
              "      <th>App Id</th>\n",
              "      <th>Category</th>\n",
              "      <th>Developer Id</th>\n",
              "      <th>Developer Website</th>\n",
              "      <th>Developer Email</th>\n",
              "      <th>Content Rating</th>\n",
              "      <th>Ad Supported</th>\n",
              "      <th>In App Purchases</th>\n",
              "    </tr>\n",
              "  </thead>\n",
              "  <tbody>\n",
              "    <tr>\n",
              "      <th>20</th>\n",
              "      <td>Currents</td>\n",
              "      <td>com.google.android.apps.plus</td>\n",
              "      <td>Social</td>\n",
              "      <td>Google LLC</td>\n",
              "      <td>https://support.google.com/plus/?hl=en#topic=6...</td>\n",
              "      <td>apps-help@google.com</td>\n",
              "      <td>Teen</td>\n",
              "      <td>False</td>\n",
              "      <td>False</td>\n",
              "    </tr>\n",
              "    <tr>\n",
              "      <th>46</th>\n",
              "      <td>Microsoft Excel: View, Edit, &amp; Create Spreadsh...</td>\n",
              "      <td>com.microsoft.office.excel</td>\n",
              "      <td>Productivity</td>\n",
              "      <td>Microsoft Corporation</td>\n",
              "      <td>https://products.office.com</td>\n",
              "      <td>officean@microsoft.com</td>\n",
              "      <td>Everyone</td>\n",
              "      <td>False</td>\n",
              "      <td>True</td>\n",
              "    </tr>\n",
              "    <tr>\n",
              "      <th>14</th>\n",
              "      <td>Messenger – Text and Video Chat for Free</td>\n",
              "      <td>com.facebook.orca</td>\n",
              "      <td>Communication</td>\n",
              "      <td>Facebook</td>\n",
              "      <td>https://www.facebook.com/games/fbmessenger_and...</td>\n",
              "      <td>android-support@fb.com</td>\n",
              "      <td>Everyone</td>\n",
              "      <td>False</td>\n",
              "      <td>True</td>\n",
              "    </tr>\n",
              "    <tr>\n",
              "      <th>19</th>\n",
              "      <td>Google Duo - High Quality Video Calls</td>\n",
              "      <td>com.google.android.apps.tachyon</td>\n",
              "      <td>Communication</td>\n",
              "      <td>Google LLC</td>\n",
              "      <td>https://google.com/</td>\n",
              "      <td>apps-help@google.com</td>\n",
              "      <td>Everyone</td>\n",
              "      <td>False</td>\n",
              "      <td>False</td>\n",
              "    </tr>\n",
              "    <tr>\n",
              "      <th>5</th>\n",
              "      <td>Google Text-to-Speech</td>\n",
              "      <td>com.google.android.tts</td>\n",
              "      <td>Tools</td>\n",
              "      <td>Google LLC</td>\n",
              "      <td>http://www.google.com/</td>\n",
              "      <td>tts-feedback@google.com</td>\n",
              "      <td>Everyone</td>\n",
              "      <td>False</td>\n",
              "      <td>False</td>\n",
              "    </tr>\n",
              "    <tr>\n",
              "      <th>42</th>\n",
              "      <td>TikTok</td>\n",
              "      <td>com.zhiliaoapp.musically</td>\n",
              "      <td>Social</td>\n",
              "      <td>TikTok Pte. Ltd.</td>\n",
              "      <td>https://www.tiktok.com/</td>\n",
              "      <td>feedback@tiktok.com</td>\n",
              "      <td>Teen</td>\n",
              "      <td>True</td>\n",
              "      <td>True</td>\n",
              "    </tr>\n",
              "    <tr>\n",
              "      <th>24</th>\n",
              "      <td>Google News - Top world &amp; local news headlines</td>\n",
              "      <td>com.google.android.apps.magazines</td>\n",
              "      <td>News &amp; Magazines</td>\n",
              "      <td>Google LLC</td>\n",
              "      <td>https://news.google.com/about</td>\n",
              "      <td>apps-help@google.com</td>\n",
              "      <td>Teen</td>\n",
              "      <td>True</td>\n",
              "      <td>False</td>\n",
              "    </tr>\n",
              "  </tbody>\n",
              "</table>\n",
              "</div>\n",
              "      <button class=\"colab-df-convert\" onclick=\"convertToInteractive('df-47a07eec-7144-4017-a905-db87e98891ab')\"\n",
              "              title=\"Convert this dataframe to an interactive table.\"\n",
              "              style=\"display:none;\">\n",
              "        \n",
              "  <svg xmlns=\"http://www.w3.org/2000/svg\" height=\"24px\"viewBox=\"0 0 24 24\"\n",
              "       width=\"24px\">\n",
              "    <path d=\"M0 0h24v24H0V0z\" fill=\"none\"/>\n",
              "    <path d=\"M18.56 5.44l.94 2.06.94-2.06 2.06-.94-2.06-.94-.94-2.06-.94 2.06-2.06.94zm-11 1L8.5 8.5l.94-2.06 2.06-.94-2.06-.94L8.5 2.5l-.94 2.06-2.06.94zm10 10l.94 2.06.94-2.06 2.06-.94-2.06-.94-.94-2.06-.94 2.06-2.06.94z\"/><path d=\"M17.41 7.96l-1.37-1.37c-.4-.4-.92-.59-1.43-.59-.52 0-1.04.2-1.43.59L10.3 9.45l-7.72 7.72c-.78.78-.78 2.05 0 2.83L4 21.41c.39.39.9.59 1.41.59.51 0 1.02-.2 1.41-.59l7.78-7.78 2.81-2.81c.8-.78.8-2.07 0-2.86zM5.41 20L4 18.59l7.72-7.72 1.47 1.35L5.41 20z\"/>\n",
              "  </svg>\n",
              "      </button>\n",
              "      \n",
              "  <style>\n",
              "    .colab-df-container {\n",
              "      display:flex;\n",
              "      flex-wrap:wrap;\n",
              "      gap: 12px;\n",
              "    }\n",
              "\n",
              "    .colab-df-convert {\n",
              "      background-color: #E8F0FE;\n",
              "      border: none;\n",
              "      border-radius: 50%;\n",
              "      cursor: pointer;\n",
              "      display: none;\n",
              "      fill: #1967D2;\n",
              "      height: 32px;\n",
              "      padding: 0 0 0 0;\n",
              "      width: 32px;\n",
              "    }\n",
              "\n",
              "    .colab-df-convert:hover {\n",
              "      background-color: #E2EBFA;\n",
              "      box-shadow: 0px 1px 2px rgba(60, 64, 67, 0.3), 0px 1px 3px 1px rgba(60, 64, 67, 0.15);\n",
              "      fill: #174EA6;\n",
              "    }\n",
              "\n",
              "    [theme=dark] .colab-df-convert {\n",
              "      background-color: #3B4455;\n",
              "      fill: #D2E3FC;\n",
              "    }\n",
              "\n",
              "    [theme=dark] .colab-df-convert:hover {\n",
              "      background-color: #434B5C;\n",
              "      box-shadow: 0px 1px 3px 1px rgba(0, 0, 0, 0.15);\n",
              "      filter: drop-shadow(0px 1px 2px rgba(0, 0, 0, 0.3));\n",
              "      fill: #FFFFFF;\n",
              "    }\n",
              "  </style>\n",
              "\n",
              "      <script>\n",
              "        const buttonEl =\n",
              "          document.querySelector('#df-47a07eec-7144-4017-a905-db87e98891ab button.colab-df-convert');\n",
              "        buttonEl.style.display =\n",
              "          google.colab.kernel.accessAllowed ? 'block' : 'none';\n",
              "\n",
              "        async function convertToInteractive(key) {\n",
              "          const element = document.querySelector('#df-47a07eec-7144-4017-a905-db87e98891ab');\n",
              "          const dataTable =\n",
              "            await google.colab.kernel.invokeFunction('convertToInteractive',\n",
              "                                                     [key], {});\n",
              "          if (!dataTable) return;\n",
              "\n",
              "          const docLinkHtml = 'Like what you see? Visit the ' +\n",
              "            '<a target=\"_blank\" href=https://colab.research.google.com/notebooks/data_table.ipynb>data table notebook</a>'\n",
              "            + ' to learn more about interactive tables.';\n",
              "          element.innerHTML = '';\n",
              "          dataTable['output_type'] = 'display_data';\n",
              "          await google.colab.output.renderOutput(dataTable, element);\n",
              "          const docLink = document.createElement('div');\n",
              "          docLink.innerHTML = docLinkHtml;\n",
              "          element.appendChild(docLink);\n",
              "        }\n",
              "      </script>\n",
              "    </div>\n",
              "  </div>\n",
              "  "
            ],
            "text/plain": [
              "                                             App Name  \\\n",
              "20                                           Currents   \n",
              "46  Microsoft Excel: View, Edit, & Create Spreadsh...   \n",
              "14           Messenger – Text and Video Chat for Free   \n",
              "19              Google Duo - High Quality Video Calls   \n",
              "5                               Google Text-to-Speech   \n",
              "42                                             TikTok   \n",
              "24     Google News - Top world & local news headlines   \n",
              "\n",
              "                               App Id          Category  \\\n",
              "20       com.google.android.apps.plus            Social   \n",
              "46         com.microsoft.office.excel      Productivity   \n",
              "14                  com.facebook.orca     Communication   \n",
              "19    com.google.android.apps.tachyon     Communication   \n",
              "5              com.google.android.tts             Tools   \n",
              "42           com.zhiliaoapp.musically            Social   \n",
              "24  com.google.android.apps.magazines  News & Magazines   \n",
              "\n",
              "             Developer Id                                  Developer Website  \\\n",
              "20             Google LLC  https://support.google.com/plus/?hl=en#topic=6...   \n",
              "46  Microsoft Corporation                        https://products.office.com   \n",
              "14               Facebook  https://www.facebook.com/games/fbmessenger_and...   \n",
              "19             Google LLC                                https://google.com/   \n",
              "5              Google LLC                             http://www.google.com/   \n",
              "42       TikTok Pte. Ltd.                            https://www.tiktok.com/   \n",
              "24             Google LLC                      https://news.google.com/about   \n",
              "\n",
              "            Developer Email Content Rating  Ad Supported  In App Purchases  \n",
              "20     apps-help@google.com           Teen         False             False  \n",
              "46   officean@microsoft.com       Everyone         False              True  \n",
              "14   android-support@fb.com       Everyone         False              True  \n",
              "19     apps-help@google.com       Everyone         False             False  \n",
              "5   tts-feedback@google.com       Everyone         False             False  \n",
              "42      feedback@tiktok.com           Teen          True              True  \n",
              "24     apps-help@google.com           Teen          True             False  "
            ]
          },
          "execution_count": 156,
          "metadata": {},
          "output_type": "execute_result"
        }
      ],
      "source": [
        "# The dataset is taken from Kaggle: https://www.kaggle.com/datasets/alexandrparkhomenko/top-apps-in-google-play\n",
        "data = pd.read_csv('Top-Apps-in-Google-Play.csv', header=0, index_col=0)\n",
        "print(data.shape)\n",
        "data.sample(7)"
      ]
    },
    {
      "cell_type": "markdown",
      "metadata": {
        "id": "iuOt6Vrp83iw"
      },
      "source": [
        "#Step 2: Perform Exploratory Analysis & Visualization\n",
        "\n",
        "1. Explore distributions of numeric columns using histograms etc.\n",
        "2. Explore relationships between columns using scatter plots, bar charts etc.\n",
        "3. Make a note of interesting insights from the exploratory analysis\n"
      ]
    },
    {
      "cell_type": "code",
      "execution_count": 13,
      "metadata": {
        "colab": {
          "base_uri": "https://localhost:8080/"
        },
        "id": "OAIEiBLVtG4_",
        "outputId": "8ebd3766-78c0-4c6e-e22e-10091f99d8f6"
      },
      "outputs": [
        {
          "data": {
            "text/plain": [
              "App Name             0\n",
              "App Id               0\n",
              "Category             0\n",
              "Developer Id         0\n",
              "Developer Website    0\n",
              "Developer Email      0\n",
              "Content Rating       0\n",
              "Ad Supported         0\n",
              "In App Purchases     0\n",
              "dtype: int64"
            ]
          },
          "execution_count": 13,
          "metadata": {},
          "output_type": "execute_result"
        }
      ],
      "source": [
        "data.isnull().sum()"
      ]
    },
    {
      "cell_type": "markdown",
      "metadata": {
        "id": "Bmu4Za6atJF3"
      },
      "source": [
        "We observe that we don't have any null values so we don't have to worry about interpolating."
      ]
    },
    {
      "cell_type": "code",
      "execution_count": 15,
      "metadata": {
        "colab": {
          "base_uri": "https://localhost:8080/",
          "height": 111
        },
        "id": "tRKrV9pUtPW9",
        "outputId": "63091fac-7390-4fc8-bd24-8b7e89b480e0"
      },
      "outputs": [
        {
          "data": {
            "text/html": [
              "\n",
              "  <div id=\"df-3b1c153d-813b-49a7-8291-4cc9789e8094\">\n",
              "    <div class=\"colab-df-container\">\n",
              "      <div>\n",
              "<style scoped>\n",
              "    .dataframe tbody tr th:only-of-type {\n",
              "        vertical-align: middle;\n",
              "    }\n",
              "\n",
              "    .dataframe tbody tr th {\n",
              "        vertical-align: top;\n",
              "    }\n",
              "\n",
              "    .dataframe thead th {\n",
              "        text-align: right;\n",
              "    }\n",
              "</style>\n",
              "<table border=\"1\" class=\"dataframe\">\n",
              "  <thead>\n",
              "    <tr style=\"text-align: right;\">\n",
              "      <th></th>\n",
              "      <th>App Name</th>\n",
              "      <th>App Id</th>\n",
              "      <th>Category</th>\n",
              "      <th>Developer Id</th>\n",
              "      <th>Developer Website</th>\n",
              "      <th>Developer Email</th>\n",
              "      <th>Content Rating</th>\n",
              "      <th>Ad Supported</th>\n",
              "      <th>In App Purchases</th>\n",
              "    </tr>\n",
              "  </thead>\n",
              "  <tbody>\n",
              "  </tbody>\n",
              "</table>\n",
              "</div>\n",
              "      <button class=\"colab-df-convert\" onclick=\"convertToInteractive('df-3b1c153d-813b-49a7-8291-4cc9789e8094')\"\n",
              "              title=\"Convert this dataframe to an interactive table.\"\n",
              "              style=\"display:none;\">\n",
              "        \n",
              "  <svg xmlns=\"http://www.w3.org/2000/svg\" height=\"24px\"viewBox=\"0 0 24 24\"\n",
              "       width=\"24px\">\n",
              "    <path d=\"M0 0h24v24H0V0z\" fill=\"none\"/>\n",
              "    <path d=\"M18.56 5.44l.94 2.06.94-2.06 2.06-.94-2.06-.94-.94-2.06-.94 2.06-2.06.94zm-11 1L8.5 8.5l.94-2.06 2.06-.94-2.06-.94L8.5 2.5l-.94 2.06-2.06.94zm10 10l.94 2.06.94-2.06 2.06-.94-2.06-.94-.94-2.06-.94 2.06-2.06.94z\"/><path d=\"M17.41 7.96l-1.37-1.37c-.4-.4-.92-.59-1.43-.59-.52 0-1.04.2-1.43.59L10.3 9.45l-7.72 7.72c-.78.78-.78 2.05 0 2.83L4 21.41c.39.39.9.59 1.41.59.51 0 1.02-.2 1.41-.59l7.78-7.78 2.81-2.81c.8-.78.8-2.07 0-2.86zM5.41 20L4 18.59l7.72-7.72 1.47 1.35L5.41 20z\"/>\n",
              "  </svg>\n",
              "      </button>\n",
              "      \n",
              "  <style>\n",
              "    .colab-df-container {\n",
              "      display:flex;\n",
              "      flex-wrap:wrap;\n",
              "      gap: 12px;\n",
              "    }\n",
              "\n",
              "    .colab-df-convert {\n",
              "      background-color: #E8F0FE;\n",
              "      border: none;\n",
              "      border-radius: 50%;\n",
              "      cursor: pointer;\n",
              "      display: none;\n",
              "      fill: #1967D2;\n",
              "      height: 32px;\n",
              "      padding: 0 0 0 0;\n",
              "      width: 32px;\n",
              "    }\n",
              "\n",
              "    .colab-df-convert:hover {\n",
              "      background-color: #E2EBFA;\n",
              "      box-shadow: 0px 1px 2px rgba(60, 64, 67, 0.3), 0px 1px 3px 1px rgba(60, 64, 67, 0.15);\n",
              "      fill: #174EA6;\n",
              "    }\n",
              "\n",
              "    [theme=dark] .colab-df-convert {\n",
              "      background-color: #3B4455;\n",
              "      fill: #D2E3FC;\n",
              "    }\n",
              "\n",
              "    [theme=dark] .colab-df-convert:hover {\n",
              "      background-color: #434B5C;\n",
              "      box-shadow: 0px 1px 3px 1px rgba(0, 0, 0, 0.15);\n",
              "      filter: drop-shadow(0px 1px 2px rgba(0, 0, 0, 0.3));\n",
              "      fill: #FFFFFF;\n",
              "    }\n",
              "  </style>\n",
              "\n",
              "      <script>\n",
              "        const buttonEl =\n",
              "          document.querySelector('#df-3b1c153d-813b-49a7-8291-4cc9789e8094 button.colab-df-convert');\n",
              "        buttonEl.style.display =\n",
              "          google.colab.kernel.accessAllowed ? 'block' : 'none';\n",
              "\n",
              "        async function convertToInteractive(key) {\n",
              "          const element = document.querySelector('#df-3b1c153d-813b-49a7-8291-4cc9789e8094');\n",
              "          const dataTable =\n",
              "            await google.colab.kernel.invokeFunction('convertToInteractive',\n",
              "                                                     [key], {});\n",
              "          if (!dataTable) return;\n",
              "\n",
              "          const docLinkHtml = 'Like what you see? Visit the ' +\n",
              "            '<a target=\"_blank\" href=https://colab.research.google.com/notebooks/data_table.ipynb>data table notebook</a>'\n",
              "            + ' to learn more about interactive tables.';\n",
              "          element.innerHTML = '';\n",
              "          dataTable['output_type'] = 'display_data';\n",
              "          await google.colab.output.renderOutput(dataTable, element);\n",
              "          const docLink = document.createElement('div');\n",
              "          docLink.innerHTML = docLinkHtml;\n",
              "          element.appendChild(docLink);\n",
              "        }\n",
              "      </script>\n",
              "    </div>\n",
              "  </div>\n",
              "  "
            ],
            "text/plain": [
              "Empty DataFrame\n",
              "Columns: [App Name, App Id, Category, Developer Id, Developer Website, Developer Email, Content Rating, Ad Supported, In App Purchases]\n",
              "Index: []"
            ]
          },
          "execution_count": 15,
          "metadata": {},
          "output_type": "execute_result"
        }
      ],
      "source": [
        "data[data.duplicated()]"
      ]
    },
    {
      "cell_type": "markdown",
      "metadata": {
        "id": "yAKwD9aetXPm"
      },
      "source": [
        "We observe that we don't have any duplicated rows."
      ]
    },
    {
      "cell_type": "code",
      "execution_count": 12,
      "metadata": {
        "colab": {
          "base_uri": "https://localhost:8080/"
        },
        "id": "DDqpPEFM9lXT",
        "outputId": "124455d4-45c2-494e-d0c5-237e421d1bc0"
      },
      "outputs": [
        {
          "data": {
            "text/plain": [
              "App Name             69\n",
              "App Id               70\n",
              "Category             17\n",
              "Developer Id         19\n",
              "Developer Website    53\n",
              "Developer Email      37\n",
              "Content Rating        4\n",
              "Ad Supported          2\n",
              "In App Purchases      2\n",
              "dtype: int64"
            ]
          },
          "execution_count": 12,
          "metadata": {},
          "output_type": "execute_result"
        }
      ],
      "source": [
        "data.nunique()"
      ]
    },
    {
      "cell_type": "markdown",
      "metadata": {
        "id": "fpODrz7Ts4Al"
      },
      "source": [
        "From the table, we did get an insight that 'Ad Supported' and 'In App Purchases' have a boolean domain so it makes sense why they have only 2 unique values. The column 'Ad Supported' has 4 categories of age which cover children, teens, adults, and everyone."
      ]
    },
    {
      "cell_type": "code",
      "execution_count": 54,
      "metadata": {
        "colab": {
          "base_uri": "https://localhost:8080/",
          "height": 282
        },
        "id": "JtB__886t5Id",
        "outputId": "eb72ee58-6561-44cf-a484-96f442b48eee"
      },
      "outputs": [
        {
          "data": {
            "image/png": "[encoded data removed]",
            "text/plain": [
              "<Figure size 1080x360 with 3 Axes>"
            ]
          },
          "metadata": {},
          "output_type": "display_data"
        }
      ],
      "source": [
        "fig, ax = plt.subplots(1, 3, figsize=(15,5))\n",
        "x = data['In App Purchases']\n",
        "ax[0].pie([np.mean(x == False), np.mean(x == True)], labels = ['False', 'True'], autopct='%1.2f%%')\n",
        "ax[0].set_title('Proportions of In App Purchases made')\n",
        "\n",
        "x = data['Ad Supported']\n",
        "ax[1].pie([np.mean(x == False), np.mean(x == True)], labels = ['False', 'True'], autopct='%1.2f%%')\n",
        "ax[1].set_title('Proportions of Ads supported in the apps')\n",
        "\n",
        "x = data['Content Rating']\n",
        "ax[2].pie(x.value_counts(), labels = np.unique(x), autopct='%1.2f%%')\n",
        "ax[2].set_title('Proportions of Age-based apps')\n",
        "\n",
        "plt.show()"
      ]
    },
    {
      "cell_type": "markdown",
      "metadata": {
        "id": "yf2jcxVTycdW"
      },
      "source": [
        "We observe that majority of popular apps don't support ads or in-app purchases and are available for everyone. There are only few apps which are more appropriate (Facebook and Twitter, for example) for teens and adults to use."
      ]
    },
    {
      "cell_type": "code",
      "execution_count": 68,
      "metadata": {
        "colab": {
          "base_uri": "https://localhost:8080/",
          "height": 295
        },
        "id": "6xFn0lqxzNKG",
        "outputId": "0767a664-afc9-42e6-b61f-745e200242c9"
      },
      "outputs": [
        {
          "data": {
            "image/png": "[encoded data removed]",
            "text/plain": [
              "<Figure size 432x288 with 1 Axes>"
            ]
          },
          "metadata": {
            "needs_background": "light"
          },
          "output_type": "display_data"
        }
      ],
      "source": [
        "sns.countplot(x=data['In App Purchases'], hue=data['Ad Supported'])\n",
        "plt.title('Relation of In-App purchases and Ads Supported')\n",
        "plt.ylabel('Frequency')\n",
        "plt.show()"
      ]
    },
    {
      "cell_type": "markdown",
      "metadata": {
        "id": "t0_Z6hVK0nlu"
      },
      "source": [
        "From the countplot, we observe that Most of the apps with no in-app purchases don't have ads. Apps such as Google Photos or even a simple Calculator are examples of this dominating category."
      ]
    },
    {
      "cell_type": "markdown",
      "metadata": {
        "id": "cr8mD-Uy9Wev"
      },
      "source": [
        "# Step 3: Exploration & Inference\n",
        "\n",
        "1. Ask at least 3 interesting questions about your dataset\n",
        "2. Answer the questions by computing the results by plotting graphs using Matplotlib\n",
        "3. Add concluding remarks\n"
      ]
    },
    {
      "cell_type": "markdown",
      "metadata": {
        "id": "7LM4ObfY2F72"
      },
      "source": [
        "# Question 1  \n",
        "\n",
        "Which category of the apps is the most popular?"
      ]
    },
    {
      "cell_type": "code",
      "execution_count": 123,
      "metadata": {
        "colab": {
          "base_uri": "https://localhost:8080/",
          "height": 440
        },
        "id": "5FkDCSgT9mCc",
        "outputId": "08565e6a-19fe-4871-e528-63930d7879b6"
      },
      "outputs": [
        {
          "data": {
            "image/png": "[encoded data removed]",
            "text/plain": [
              "<Figure size 864x360 with 1 Axes>"
            ]
          },
          "metadata": {
            "needs_background": "light"
          },
          "output_type": "display_data"
        }
      ],
      "source": [
        "plt.figure(figsize=(12,5))\n",
        "sns.countplot(x = data['Category'])\n",
        "plt.xticks(rotation=90)\n",
        "plt.show()"
      ]
    },
    {
      "cell_type": "markdown",
      "metadata": {
        "id": "QsuRkr3e3-Kn"
      },
      "source": [
        "We observe that 18 apps are of category 'Tools', which is the most popular category"
      ]
    },
    {
      "cell_type": "markdown",
      "metadata": {
        "id": "Ad_pbANJ-W0X"
      },
      "source": [
        "# Question 2  \n",
        "\n",
        "For Communication and Tools, find out the most frequent develop ID."
      ]
    },
    {
      "cell_type": "code",
      "execution_count": 149,
      "metadata": {
        "colab": {
          "base_uri": "https://localhost:8080/",
          "height": 334
        },
        "id": "_w3jsVAN-gJa",
        "outputId": "3beca975-59cd-45b2-9520-072ce660c61e"
      },
      "outputs": [
        {
          "data": {
            "image/png": "[encoded data removed]",
            "text/plain": [
              "<Figure size 864x360 with 1 Axes>"
            ]
          },
          "metadata": {
            "needs_background": "light"
          },
          "output_type": "display_data"
        }
      ],
      "source": [
        "tempdata = data[(data['Category'] == 'Tools') | (data['Category'] == 'Communication')]\n",
        "plt.figure(figsize=(12,5))\n",
        "sns.countplot(x=tempdata.Category, hue=tempdata['Developer Id'])\n",
        "plt.show()"
      ]
    },
    {
      "cell_type": "markdown",
      "metadata": {
        "id": "k1X6aqETDVRQ"
      },
      "source": [
        "We observe that majority of developers are from Google LLC that work on tools or communication based apps. Not part of the answer, but Samsung is the 2nd popular Developer ID. It does make sense why Facebook and Whatsapp are only communication based but not tools based."
      ]
    },
    {
      "cell_type": "markdown",
      "metadata": {
        "id": "uPVPMgh5FbL_"
      },
      "source": [
        "# Question 3  \n",
        "\n",
        "For Google LC, find out what percentage of their apps have in app purchases."
      ]
    },
    {
      "cell_type": "code",
      "execution_count": 167,
      "metadata": {
        "colab": {
          "base_uri": "https://localhost:8080/",
          "height": 265
        },
        "id": "EA4AO-sgD81Q",
        "outputId": "80f8d16d-2cb6-46e3-d530-d0386bbd5d44"
      },
      "outputs": [
        {
          "name": "stdout",
          "output_type": "stream",
          "text": [
            "(33, 9)\n"
          ]
        },
        {
          "data": {
            "image/png": "[encoded data removed]",
            "text/plain": [
              "<Figure size 432x288 with 1 Axes>"
            ]
          },
          "metadata": {},
          "output_type": "display_data"
        }
      ],
      "source": [
        "tempdata = data[data['Developer Id'] == 'Google LLC']\n",
        "print(tempdata.shape)\n",
        "plt.pie(tempdata['In App Purchases'].value_counts(), labels=np.unique(tempdata['In App Purchases']), autopct='%1.1f%%')\n",
        "plt.show()"
      ]
    },
    {
      "cell_type": "code",
      "execution_count": 174,
      "metadata": {
        "colab": {
          "base_uri": "https://localhost:8080/"
        },
        "id": "lXzmrAIBGv5r",
        "outputId": "6177def2-0214-4866-8e49-2a013ca7ed0c"
      },
      "outputs": [
        {
          "data": {
            "text/plain": [
              "array([32.,  1.])"
            ]
          },
          "execution_count": 174,
          "metadata": {},
          "output_type": "execute_result"
        }
      ],
      "source": [
        "np.around((0.97 * 33, 0.03 * 33))"
      ]
    },
    {
      "cell_type": "code",
      "execution_count": 171,
      "metadata": {
        "colab": {
          "base_uri": "https://localhost:8080/",
          "height": 179
        },
        "id": "A7jT8WB8G_2R",
        "outputId": "0608f84a-b8ad-46c9-a63d-6b323dd6bb85"
      },
      "outputs": [
        {
          "data": {
            "text/html": [
              "\n",
              "  <div id=\"df-7fb3ee36-d4e5-429b-9f74-630e290825c6\">\n",
              "    <div class=\"colab-df-container\">\n",
              "      <div>\n",
              "<style scoped>\n",
              "    .dataframe tbody tr th:only-of-type {\n",
              "        vertical-align: middle;\n",
              "    }\n",
              "\n",
              "    .dataframe tbody tr th {\n",
              "        vertical-align: top;\n",
              "    }\n",
              "\n",
              "    .dataframe thead th {\n",
              "        text-align: right;\n",
              "    }\n",
              "</style>\n",
              "<table border=\"1\" class=\"dataframe\">\n",
              "  <thead>\n",
              "    <tr style=\"text-align: right;\">\n",
              "      <th></th>\n",
              "      <th>App Name</th>\n",
              "      <th>App Id</th>\n",
              "      <th>Category</th>\n",
              "      <th>Developer Id</th>\n",
              "      <th>Developer Website</th>\n",
              "      <th>Developer Email</th>\n",
              "      <th>Content Rating</th>\n",
              "      <th>Ad Supported</th>\n",
              "      <th>In App Purchases</th>\n",
              "    </tr>\n",
              "  </thead>\n",
              "  <tbody>\n",
              "    <tr>\n",
              "      <th>9</th>\n",
              "      <td>Google Drive</td>\n",
              "      <td>com.google.android.apps.docs</td>\n",
              "      <td>Productivity</td>\n",
              "      <td>Google LLC</td>\n",
              "      <td>https://support.google.com/drive/?p=android_dr...</td>\n",
              "      <td>apps-help@google.com</td>\n",
              "      <td>Everyone</td>\n",
              "      <td>False</td>\n",
              "      <td>True</td>\n",
              "    </tr>\n",
              "  </tbody>\n",
              "</table>\n",
              "</div>\n",
              "      <button class=\"colab-df-convert\" onclick=\"convertToInteractive('df-7fb3ee36-d4e5-429b-9f74-630e290825c6')\"\n",
              "              title=\"Convert this dataframe to an interactive table.\"\n",
              "              style=\"display:none;\">\n",
              "        \n",
              "  <svg xmlns=\"http://www.w3.org/2000/svg\" height=\"24px\"viewBox=\"0 0 24 24\"\n",
              "       width=\"24px\">\n",
              "    <path d=\"M0 0h24v24H0V0z\" fill=\"none\"/>\n",
              "    <path d=\"M18.56 5.44l.94 2.06.94-2.06 2.06-.94-2.06-.94-.94-2.06-.94 2.06-2.06.94zm-11 1L8.5 8.5l.94-2.06 2.06-.94-2.06-.94L8.5 2.5l-.94 2.06-2.06.94zm10 10l.94 2.06.94-2.06 2.06-.94-2.06-.94-.94-2.06-.94 2.06-2.06.94z\"/><path d=\"M17.41 7.96l-1.37-1.37c-.4-.4-.92-.59-1.43-.59-.52 0-1.04.2-1.43.59L10.3 9.45l-7.72 7.72c-.78.78-.78 2.05 0 2.83L4 21.41c.39.39.9.59 1.41.59.51 0 1.02-.2 1.41-.59l7.78-7.78 2.81-2.81c.8-.78.8-2.07 0-2.86zM5.41 20L4 18.59l7.72-7.72 1.47 1.35L5.41 20z\"/>\n",
              "  </svg>\n",
              "      </button>\n",
              "      \n",
              "  <style>\n",
              "    .colab-df-container {\n",
              "      display:flex;\n",
              "      flex-wrap:wrap;\n",
              "      gap: 12px;\n",
              "    }\n",
              "\n",
              "    .colab-df-convert {\n",
              "      background-color: #E8F0FE;\n",
              "      border: none;\n",
              "      border-radius: 50%;\n",
              "      cursor: pointer;\n",
              "      display: none;\n",
              "      fill: #1967D2;\n",
              "      height: 32px;\n",
              "      padding: 0 0 0 0;\n",
              "      width: 32px;\n",
              "    }\n",
              "\n",
              "    .colab-df-convert:hover {\n",
              "      background-color: #E2EBFA;\n",
              "      box-shadow: 0px 1px 2px rgba(60, 64, 67, 0.3), 0px 1px 3px 1px rgba(60, 64, 67, 0.15);\n",
              "      fill: #174EA6;\n",
              "    }\n",
              "\n",
              "    [theme=dark] .colab-df-convert {\n",
              "      background-color: #3B4455;\n",
              "      fill: #D2E3FC;\n",
              "    }\n",
              "\n",
              "    [theme=dark] .colab-df-convert:hover {\n",
              "      background-color: #434B5C;\n",
              "      box-shadow: 0px 1px 3px 1px rgba(0, 0, 0, 0.15);\n",
              "      filter: drop-shadow(0px 1px 2px rgba(0, 0, 0, 0.3));\n",
              "      fill: #FFFFFF;\n",
              "    }\n",
              "  </style>\n",
              "\n",
              "      <script>\n",
              "        const buttonEl =\n",
              "          document.querySelector('#df-7fb3ee36-d4e5-429b-9f74-630e290825c6 button.colab-df-convert');\n",
              "        buttonEl.style.display =\n",
              "          google.colab.kernel.accessAllowed ? 'block' : 'none';\n",
              "\n",
              "        async function convertToInteractive(key) {\n",
              "          const element = document.querySelector('#df-7fb3ee36-d4e5-429b-9f74-630e290825c6');\n",
              "          const dataTable =\n",
              "            await google.colab.kernel.invokeFunction('convertToInteractive',\n",
              "                                                     [key], {});\n",
              "          if (!dataTable) return;\n",
              "\n",
              "          const docLinkHtml = 'Like what you see? Visit the ' +\n",
              "            '<a target=\"_blank\" href=https://colab.research.google.com/notebooks/data_table.ipynb>data table notebook</a>'\n",
              "            + ' to learn more about interactive tables.';\n",
              "          element.innerHTML = '';\n",
              "          dataTable['output_type'] = 'display_data';\n",
              "          await google.colab.output.renderOutput(dataTable, element);\n",
              "          const docLink = document.createElement('div');\n",
              "          docLink.innerHTML = docLinkHtml;\n",
              "          element.appendChild(docLink);\n",
              "        }\n",
              "      </script>\n",
              "    </div>\n",
              "  </div>\n",
              "  "
            ],
            "text/plain": [
              "       App Name                        App Id      Category Developer Id  \\\n",
              "9  Google Drive  com.google.android.apps.docs  Productivity   Google LLC   \n",
              "\n",
              "                                   Developer Website       Developer Email  \\\n",
              "9  https://support.google.com/drive/?p=android_dr...  apps-help@google.com   \n",
              "\n",
              "  Content Rating  Ad Supported  In App Purchases  \n",
              "9       Everyone         False              True  "
            ]
          },
          "execution_count": 171,
          "metadata": {},
          "output_type": "execute_result"
        }
      ],
      "source": [
        "tempdata[tempdata['In App Purchases'] == True]"
      ]
    },
    {
      "cell_type": "markdown",
      "metadata": {
        "id": "EQLP2pcEG1gP"
      },
      "source": [
        "We see that only one Google LLC app has an in app purchase and that is Google Drive, which does make sense as users can buy more storage in the app."
      ]
    },
    {
      "cell_type": "markdown",
      "metadata": {
        "id": "NhBooOsCHdfW"
      },
      "source": [
        "THE END"
      ]
    }
  ],
  "metadata": {
    "colab": {
      "name": "DPhi Data Visualization Bootcamp Assignment.ipynb",
      "provenance": []
    },
    "kernelspec": {
      "display_name": "Python 3",
      "name": "python3"
    },
    "language_info": {
      "name": "python"
    }
  },
  "nbformat": 4,
  "nbformat_minor": 0
}
